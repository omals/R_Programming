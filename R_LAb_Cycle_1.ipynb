{
  "nbformat": 4,
  "nbformat_minor": 0,
  "metadata": {
    "colab": {
      "provenance": []
    },
    "kernelspec": {
      "name": "ir",
      "display_name": "R"
    },
    "language_info": {
      "name": "R"
    }
  },
  "cells": [
    {
      "cell_type": "markdown",
      "source": [
        "# Data Types and Manipulation\n",
        "Develop a program to read a paragraph of text and perform the following tasks:"
      ],
      "metadata": {
        "id": "frCLBT0BOf6-"
      }
    },
    {
      "cell_type": "code",
      "execution_count": null,
      "metadata": {
        "colab": {
          "base_uri": "https://localhost:8080/",
          "height": 52
        },
        "id": "qbjS5KzbLE7a",
        "outputId": "023feae2-d9c6-4cac-e42b-54591140ef5e"
      },
      "outputs": [
        {
          "name": "stdout",
          "output_type": "stream",
          "text": [
            "Enter a paragraph: Hi Hello I am Omal. Happy to see U.\n"
          ]
        },
        {
          "output_type": "display_data",
          "data": {
            "text/html": [
              "<span style=white-space:pre-wrap>'Number of words:  9'</span>"
            ],
            "text/markdown": "<span style=white-space:pre-wrap>'Number of words:  9'</span>",
            "text/latex": "'Number of words:  9'",
            "text/plain": [
              "[1] \"Number of words:  9\""
            ]
          },
          "metadata": {}
        }
      ],
      "source": [
        "#a.Count the total number of words.\n",
        "\n",
        "{\n",
        "    paragraph <- readline(\"Enter a paragraph: \");\n",
        "\n",
        "    #length of the paragaraph\n",
        "\n",
        "    noOfWrds <- lengths(strsplit(paragraph,\" \"));\n",
        "    paste (\"Number of words: \", noOfWrds)\n",
        "}"
      ]
    },
    {
      "cell_type": "code",
      "source": [
        "#b. Calculate the average word length\n",
        "\n",
        "{\n",
        "    #split the paragraph into words and unlisted\n",
        "    wrds <- unlist(strsplit(paragraph,\" \"))\n",
        "\n",
        "    #Number of characters in each words and Sum them up\n",
        "    noOfChars <- sum(nchar(wrds))\n",
        "    cat(\"Number of Characters: \", noOfChars)\n",
        "\n",
        "    #Number of words in paragraph\n",
        "\n",
        "    cat(\"\\nNumber of Words: \",noOfWrds)\n",
        "\n",
        "    #Average Word length = number of characters / number of words\n",
        "    avgWrdLen <- noOfChars / noOfWrds\n",
        "\n",
        "    cat(\"\\nAverage Word Length: \",avgWrdLen,\"\\nRound off to : \",round(avgWrdLen))\n",
        "}"
      ],
      "metadata": {
        "colab": {
          "base_uri": "https://localhost:8080/"
        },
        "id": "HXiY491lLldX",
        "outputId": "3cc4dd72-4293-4d11-ee57-4dc02eded4c9"
      },
      "execution_count": null,
      "outputs": [
        {
          "output_type": "stream",
          "name": "stdout",
          "text": [
            "Number of Characters:  27\n",
            "Number of Words:  9\n",
            "Average Word Length:  3 \n",
            "Round off to :  3"
          ]
        }
      ]
    },
    {
      "cell_type": "code",
      "source": [
        "#c. Identify and print the longest word.\n",
        "\n",
        "{\n",
        "  #identifing the longest word length\n",
        "  longNo <- max(nchar(wrds))\n",
        "\n",
        "  #creating list to store longest word if multiple\n",
        "  longWrd <- list()\n",
        "\n",
        "  #taking each word and comapred with longest length and print if equal\n",
        "  for (wrd in wrds)\n",
        "  {\n",
        "    if (nchar(wrd) == longNo)\n",
        "    {\n",
        "      longWrd <- append(longWrd,wrd)\n",
        "    }\n",
        "  }\n",
        "\n",
        "  cat(\"Longest word length: \",longNo)\n",
        "  cat(\"\\nLongest Words: \",paste(longWrd))\n",
        "}"
      ],
      "metadata": {
        "colab": {
          "base_uri": "https://localhost:8080/"
        },
        "id": "DWyH6gMCTPnE",
        "outputId": "a9406132-8ce0-4b65-bc9d-2715f5bc0fb5"
      },
      "execution_count": null,
      "outputs": [
        {
          "output_type": "stream",
          "name": "stdout",
          "text": [
            "Longest word length:  5\n",
            "Longest Words:  Hello Omal. Happy"
          ]
        }
      ]
    },
    {
      "cell_type": "code",
      "source": [
        "#Replace all occurrences of a specific word with another word of your choice.\n",
        "\n",
        "{\n",
        "  specWrd = readline(\"Enter specific word to replace : \")\n",
        "  replaceWrd = readline(\"Enter word to replace with : \")\n",
        "  cat(\"Exsisting Paragraph: \",paragraph)\n",
        "\n",
        "  #gsub: global substitution function\n",
        "  newParagraph = gsub(specWrd,replaceWrd, paragraph)\n",
        "\n",
        "  cat(\"\\nNew Paragraph Replaced: \",newParagraph)\n",
        "}"
      ],
      "metadata": {
        "colab": {
          "base_uri": "https://localhost:8080/"
        },
        "id": "nlkCsXE-ci83",
        "outputId": "8d495e37-8f0d-4d26-df28-e7c75c4bcd85"
      },
      "execution_count": null,
      "outputs": [
        {
          "output_type": "stream",
          "name": "stdout",
          "text": [
            "Enter specific word to replace : Hello\n",
            "Enter word to replace with : Hi\n",
            "Exsisting Paragraph:  Hi Hello I am Omal. Happy to see U.\n",
            "New Paragraph Replaced:  Hi Hi I am Omal. Happy to see U."
          ]
        }
      ]
    },
    {
      "cell_type": "markdown",
      "source": [
        "# String Encryption\n",
        "Write a program that reads a sentence from the user and encrypts it using a simple Caesar cipher. The user can specify the shift value. Implement the encryption such that only alphabetic characters are shifted, while maintaining their case."
      ],
      "metadata": {
        "id": "HFUajl0s_zI0"
      }
    },
    {
      "cell_type": "code",
      "source": [
        "{\n",
        "  charAt <- function(sentence,index)\n",
        "  {\n",
        "      c <- substr(sentence,index,index)\n",
        "  }\n",
        "\n",
        "  caeser_cipher <- function(sentence,shift)\n",
        "  {\n",
        "    for (i in 1:nchar(sentence))\n",
        "    {\n",
        "      if (tolower(charAt(sentence, i)) %in% letters)\n",
        "      {\n",
        "        alphabet <- tolower(charAt(sentence, i))\n",
        "        position <- which(letters %in% alphabet) + shift\n",
        "        if (position > 26)\n",
        "        {\n",
        "          position <- position - 26\n",
        "        }\n",
        "        if (i - 1 < 1)\n",
        "        {\n",
        "          sentence <- paste0(\n",
        "                  letters[position],\n",
        "                  substr(sentence, i + 1, nchar(sentence)))\n",
        "        }\n",
        "        else\n",
        "        {\n",
        "          sentence <- paste0(\n",
        "            substr(sentence, 1, i - 1),\n",
        "            letters[position],\n",
        "            substr(sentence,\n",
        "            i + 1,\n",
        "            nchar(sentence)))\n",
        "        }\n",
        "      }\n",
        "      else\n",
        "      {\n",
        "        next\n",
        "      }\n",
        "    }\n",
        "    return(sentence)\n",
        "  }\n",
        "  sentence <- readline(\"Enter text to encrypt: \")\n",
        "  shift <- readline(\"Enter shift value: \")\n",
        "\n",
        "  shift <- as.numeric(shift)\n",
        "  encryptSentence <- caeser_cipher(sentence, shift)\n",
        "\n",
        "  cat(\"Original Text before Encryption : \", sentence, \"\\n\")\n",
        "  cat(\"Encrypted Text using Caesar Cipher: \", encryptSentence, \"\\n\")\n",
        "}"
      ],
      "metadata": {
        "colab": {
          "base_uri": "https://localhost:8080/"
        },
        "id": "27rurQfpDvDE",
        "outputId": "c43a0b32-3c6d-4ddc-9964-8e10da6ecf5b"
      },
      "execution_count": null,
      "outputs": [
        {
          "output_type": "stream",
          "name": "stdout",
          "text": [
            "Enter text to encrypt: hi i am omal.\n",
            "Enter shift value: 4\n",
            "Original Text before Encryption :  hi i am omal. \n",
            "Encrypted Text using Caesar Cipher:  lm m eq sqep. \n"
          ]
        }
      ]
    },
    {
      "cell_type": "markdown",
      "source": [
        "# Data Validation and User Input\n",
        "Develop a program to read student records with their names, ages, and grades. Implement validation checks:"
      ],
      "metadata": {
        "id": "-68GzlRGSFZB"
      }
    },
    {
      "cell_type": "code",
      "source": [
        "#a. Ensure age is a positive integer.\n",
        "\n",
        "{\n",
        "  studentData <- read.csv(\"/content/students.csv\")\n",
        "  cat(\"Student Data: \\n\")\n",
        "  print(studentData)\n",
        "\n",
        "  #validation based on age:\n",
        "  validData <- studentData[studentData$Age > 0,]\n",
        "  cat(\"\\nValid Data based on Age: \\n\")\n",
        "  print(validData)\n",
        "  # write.csv(validData, \"filteredStudentsAge.csv\", row.names = FALSE)\n",
        "}"
      ],
      "metadata": {
        "id": "BNpqvtZtN4ho",
        "colab": {
          "base_uri": "https://localhost:8080/"
        },
        "outputId": "2eed5f89-547a-4bf5-c9b8-db32daff9464"
      },
      "execution_count": null,
      "outputs": [
        {
          "output_type": "stream",
          "name": "stdout",
          "text": [
            "Student Data: \n",
            "       Name Age Grade\n",
            "1  Christie  14     A\n",
            "2    Graize  15     B\n",
            "3   Sameera  18     C\n",
            "4     Samar  14     D\n",
            "5     Maron  15     B\n",
            "6     Sanam  14     C\n",
            "7     Emrad -18     D\n",
            "8       Jan  15     F\n",
            "9    Aarodh  16     A\n",
            "10   Philip  17     F\n",
            "11   Samual  18     D\n",
            "12     Paul  18     G\n",
            "13   Perlen  19     C\n",
            "\n",
            "Valid Data based on Age: \n",
            "       Name Age Grade\n",
            "1  Christie  14     A\n",
            "2    Graize  15     B\n",
            "3   Sameera  18     C\n",
            "4     Samar  14     D\n",
            "5     Maron  15     B\n",
            "6     Sanam  14     C\n",
            "8       Jan  15     F\n",
            "9    Aarodh  16     A\n",
            "10   Philip  17     F\n",
            "11   Samual  18     D\n",
            "12     Paul  18     G\n",
            "13   Perlen  19     C\n"
          ]
        }
      ]
    },
    {
      "cell_type": "code",
      "source": [
        "#b. Ensure grade is a valid letter grade (A, B, C, D, F).\n",
        "{\n",
        "  validData <- validData[validData$Grade %in% c(\"A\",\"B\",\"C\",\"D\",\"F\"),]\n",
        "  cat(\"Valid Data Based on Grade: \\n\")\n",
        "  print(validData)\n",
        "  # write.csv(validData,\"filteredStudentsGrade.csv\",row.names=FALSE)\n",
        "}"
      ],
      "metadata": {
        "colab": {
          "base_uri": "https://localhost:8080/"
        },
        "id": "XCP2qnSQiuwI",
        "outputId": "5ee625a6-eefd-4e68-b539-b0e297007cd5"
      },
      "execution_count": null,
      "outputs": [
        {
          "output_type": "stream",
          "name": "stdout",
          "text": [
            "Valid Data Based on Grade: \n",
            "       Name Age Grade\n",
            "1  Christie  14     A\n",
            "2    Graize  15     B\n",
            "3   Sameera  18     C\n",
            "4     Samar  14     D\n",
            "5     Maron  15     B\n",
            "6     Sanam  14     C\n",
            "8       Jan  15     F\n",
            "9    Aarodh  16     A\n",
            "10   Philip  17     F\n",
            "11   Samual  18     D\n",
            "13   Perlen  19     C\n"
          ]
        }
      ]
    },
    {
      "cell_type": "code",
      "source": [
        "#c. Calculate and display the average age of students with valid records.\n",
        "{\n",
        "  averageAge <- mean(validData$Age)\n",
        "  cat(\"The average age of the Students: \",averageAge)\n",
        "}"
      ],
      "metadata": {
        "colab": {
          "base_uri": "https://localhost:8080/"
        },
        "id": "QYhkx7XLk3ub",
        "outputId": "bb9a67f8-ba08-4434-cade-647ebaf60726"
      },
      "execution_count": null,
      "outputs": [
        {
          "output_type": "stream",
          "name": "stdout",
          "text": [
            "The average age of the Students:  15.90909"
          ]
        }
      ]
    },
    {
      "cell_type": "markdown",
      "source": [
        "# Password Generator\n",
        "Write a program to generate a random password for a user. The password should\n",
        "include a mix of uppercase letters, lowercase letters, digits, and special characters. Allow the user to specify the length of the password."
      ],
      "metadata": {
        "id": "zEdQI5BIq63b"
      }
    },
    {
      "cell_type": "code",
      "source": [
        "{\n",
        "  library(magrittr)  # Load the magrittr package\n",
        "\n",
        "  # Define the characters that can be included in the password\n",
        "  char <- c(letters, LETTERS, 0:9, c(\"!\", \"@\", \"#\", \"$\", \"%\", \"_\", \"+\", \"-\", \";\", \"'\", \"?\", \"/\"))\n",
        "\n",
        "  # Function to generate a random password of a specified length\n",
        "  generatePasswrd <- function(length)\n",
        "  {\n",
        "    passwrdChars <- sample(char, length, replace = TRUE)\n",
        "    passwrd <- paste(passwrdChars, collapse = \"\")\n",
        "    return(passwrd)\n",
        "  }\n",
        "\n",
        "  # Set the desired length of the password\n",
        "  passwrdLength <- as.integer(readline(\"Enter length of password: \"))\n",
        "\n",
        "  # Generate a random password\n",
        "  randomPasswrd <- generatePasswrd(passwrdLength)\n",
        "\n",
        "  # Print the generated password\n",
        "  cat(\"Random Password generated: \", randomPasswrd, \"\\n\")\n",
        "}"
      ],
      "metadata": {
        "colab": {
          "base_uri": "https://localhost:8080/"
        },
        "id": "QFkMaqmMrH1o",
        "outputId": "f7c177a7-ff64-4382-9131-d3a422437a9f"
      },
      "execution_count": null,
      "outputs": [
        {
          "output_type": "stream",
          "name": "stdout",
          "text": [
            "Enter length of password: 6\n",
            "Random Password generated:  VuG4b; \n"
          ]
        }
      ]
    },
    {
      "cell_type": "markdown",
      "source": [
        "# Series Summation\n",
        "Develop a program to calculate the sum of the series: 1 - 2/3 + 3/5 - 4/7 + ... up to a\n",
        "specified number of terms. Allow the user to input the number of terms in the series."
      ],
      "metadata": {
        "id": "wmGTZ1vKAlvV"
      }
    },
    {
      "cell_type": "code",
      "source": [
        "{\n",
        "  series <- function(noOfTerms)\n",
        "  {\n",
        "    a <- 1\n",
        "    b <- 1\n",
        "    value <- 0\n",
        "    for (i in 1:noOfTerms)\n",
        "    {\n",
        "       c <- a/b\n",
        "      #  cat(i,\" : a - \",a,\"b - \",b,\"c - \",c,\"\\n\")\n",
        "       if (i %% 2 == 0)\n",
        "       {\n",
        "        value <- value - c\n",
        "       }\n",
        "       else\n",
        "       {\n",
        "        value <- value + c\n",
        "       }\n",
        "       temp <- a\n",
        "       a <- a+1\n",
        "       b <- a+temp\n",
        "       #a/b is the format where next term denominator is sum of previous image a+b and numerator is just series of natural numbers.\n",
        "    }\n",
        "    return(value)\n",
        "  }\n",
        "\n",
        "  term <- as.integer(readline(\"Enter number of terms: \"))\n",
        "  sum <- series(term)\n",
        "  cat(\"The Sum of Series: 1 - 2/3 + 3/5 - 4/7 + ... up to \",term,\" :\",sum)\n",
        "\n",
        "}"
      ],
      "metadata": {
        "colab": {
          "base_uri": "https://localhost:8080/"
        },
        "id": "o8gJaBIpsc33",
        "outputId": "f944c46d-fa29-4b09-9cdf-7864f7a91f7c"
      },
      "execution_count": 37,
      "outputs": [
        {
          "output_type": "stream",
          "name": "stdout",
          "text": [
            "Enter number of terms: 2000\n",
            "The Sum of Series: 1 - 2/3 + 3/5 - 4/7 + ... up to  2000  : 0.3926366"
          ]
        }
      ]
    },
    {
      "cell_type": "markdown",
      "source": [
        "# Prime Number Checker\n",
        "Write a program to check whether a given number is prime or not. Implement this using\n",
        "both loops and functions. Additionally, allow the user to input a range and identify all\n",
        "prime numbers within that range."
      ],
      "metadata": {
        "id": "T9g6eItDR29_"
      }
    },
    {
      "cell_type": "code",
      "source": [
        "{\n",
        "  #looping through range of numbers and checking for reminder to be \"0\"\n",
        "  prime <- function(nos)\n",
        "  {\n",
        "    terms <- length(nos)\n",
        "    primeNumber <- as.integer(list())\n",
        "    for (no in nos)\n",
        "    {\n",
        "      count <- 0\n",
        "      for (i in 1:terms)\n",
        "      {\n",
        "        if (no %% i == 0)\n",
        "        {\n",
        "          count <- count+1\n",
        "        }\n",
        "      }\n",
        "      if (count == 2)\n",
        "      {\n",
        "        primeNumber <- c(primeNumber,no)\n",
        "      }\n",
        "    }\n",
        "    return(primeNumber)\n",
        "  }\n",
        "\n",
        "  lowerLimit <- as.integer(readline(\"Enter start value of range: \"))\n",
        "  upperLimit <- as.integer(readline(\"Enter end value of range: \"))\n",
        "  range <- as.integer(list())\n",
        "  for (i in lowerLimit:upperLimit)\n",
        "  {\n",
        "    range <- c(range,i)\n",
        "  }\n",
        "  primeNumbers <- as.integer(list())\n",
        "  primeNumbers <- prime(range)\n",
        "  cat(\"Prime numbers within range \",lowerLimit,\" and \",upperLimit,\" : \",primeNumbers)\n",
        "}"
      ],
      "metadata": {
        "colab": {
          "base_uri": "https://localhost:8080/"
        },
        "id": "Lkgv9QlrRxS_",
        "outputId": "77252463-94d7-4b79-a659-05f6b6c12d06"
      },
      "execution_count": 41,
      "outputs": [
        {
          "output_type": "stream",
          "name": "stdout",
          "text": [
            "Enter start value of range: 2\n",
            "Enter end value of range: 30\n",
            "Prime numbers within range  2  and  30  :  2 3 5 7 11 13 17 19 23 29"
          ]
        }
      ]
    },
    {
      "cell_type": "markdown",
      "source": [
        "# Fibonacci Series with a Twist\n",
        "Develop a program to generate the Fibonacci series, but with a twist. Allow the user to\n",
        "input the number of terms and generate the series where each term is the sum of the\n",
        "last three terms."
      ],
      "metadata": {
        "id": "rcfgQiwiOgoB"
      }
    },
    {
      "cell_type": "code",
      "source": [
        "{\n",
        "  #Normal fibanocci number progress since the question tells\n",
        "  #next number is the sum of last 3 numbers, terms should be greater than 3\n",
        "  fibanocciTwist <- function(noOfTerms)\n",
        "  {\n",
        "    fibanocci <- as.integer(list())\n",
        "    if (noOfTerms > 3)\n",
        "    {\n",
        "      fibanocci <- c(fibanocci,0)\n",
        "      fibanocci <- c(fibanocci,1)\n",
        "      fibanocci <- c(fibanocci,fibanocci[1]+fibanocci[2])\n",
        "      for (i in 4:noOfTerms)\n",
        "      {\n",
        "        fibanocci <- c(fibanocci,fibanocci[i-1]+fibanocci[i-2]+fibanocci[i-3])\n",
        "      }\n",
        "      return (fibanocci)\n",
        "    }\n",
        "    else\n",
        "    {\n",
        "      return (0)\n",
        "    }\n",
        "  }\n",
        "\n",
        "  terms <- as.integer(readline(\"Enter number of terms : \"))\n",
        "  fibanocciSeries <- as.integer(list())\n",
        "  fibanocciSeries <- fibanocciTwist(terms)\n",
        "\n",
        "  cat(\"Fibanocci Series with Twist: \",fibanocciSeries)\n",
        "}"
      ],
      "metadata": {
        "colab": {
          "base_uri": "https://localhost:8080/"
        },
        "id": "ceuqHAc8DrlZ",
        "outputId": "8306549d-8bbd-4926-d45a-95d7a90ba28e"
      },
      "execution_count": 44,
      "outputs": [
        {
          "output_type": "stream",
          "name": "stdout",
          "text": [
            "Enter number of terms : 20\n",
            "Fibancci Series with Twist:  0 1 1 2 4 7 13 24 44 81 149 274 504 927 1705 3136 5768 10609 19513 35890"
          ]
        }
      ]
    },
    {
      "cell_type": "markdown",
      "source": [
        "# Palindrome Checker\n",
        "Write a program that reads a string and checks if it's a palindrome. A palindrome is a\n",
        "string that reads the same forwards and backwards, ignoring spaces and punctuation.\n"
      ],
      "metadata": {
        "id": "1imZvrmZWyB3"
      }
    },
    {
      "cell_type": "code",
      "source": [
        "{\n",
        "  #take input number removes punctuations,space and convert sentence to lower case\n",
        "  #Convert overall sentence to word and reverse word\n",
        "  #Return boolean value\n",
        "\n",
        "  palindrome <- function(text)\n",
        "  {\n",
        "    testText <- tolower(gsub(\"[[:space:][:punct:]]\",\"\",text))\n",
        "\n",
        "    characters <- unlist(strsplit(testText,\"\"))\n",
        "    reverseText <- rev(characters)\n",
        "    reverseText <- paste(reverseText, collapse=\"\")\n",
        "\n",
        "    if (reverseText == testText)\n",
        "    {\n",
        "      return (TRUE)\n",
        "    }\n",
        "    else\n",
        "    {\n",
        "      return (FALSE)\n",
        "    }\n",
        "  }\n",
        "\n",
        "  string <- readline(\"Enter text to check : \")\n",
        "  checkResult <- palindrome(string)\n",
        "  cat(\"Statement: \",string,\" \\nPalindrome: \",checkResult)\n",
        "}"
      ],
      "metadata": {
        "colab": {
          "base_uri": "https://localhost:8080/"
        },
        "id": "QKPO2_LeVtJI",
        "outputId": "80b931ff-c888-4dfc-eb54-e0628f160992"
      },
      "execution_count": 6,
      "outputs": [
        {
          "output_type": "stream",
          "name": "stdout",
          "text": [
            "Enter text to check : A man, a plan, a canal, Panama\n",
            "Statement:  A man, a plan, a canal, Panama  \n",
            "Palindrome:  TRUE"
          ]
        }
      ]
    },
    {
      "cell_type": "markdown",
      "source": [
        "# Data Compression\n",
        "Design a program to read a string and compress it using run-length encoding. In\n",
        "run-length encoding, consecutive repeated characters are replaced with a single\n",
        "character followed by the count of occurrences."
      ],
      "metadata": {
        "id": "wceXTzBAxHh7"
      }
    },
    {
      "cell_type": "code",
      "source": [
        "{\n",
        "  #string to characters and count the matching characters nearby \"count\"\n",
        "  #no match found then concateneted to character list \"encoded\"\n",
        "  encoder <- function(text)\n",
        "  {\n",
        "    text <- strsplit(text,\"\")[[1]]\n",
        "    encoded <- character(0)\n",
        "    count <- 1\n",
        "    for (i in 1:(length(text)))\n",
        "    {\n",
        "      if (i < length(text) && text[i] == text[i+1])\n",
        "      {\n",
        "        count <- count+1\n",
        "      }\n",
        "      else\n",
        "      {\n",
        "        encoded <- c(encoded,paste(text[i],count,sep = \"\"))\n",
        "        count <- 1\n",
        "      }\n",
        "\n",
        "    }\n",
        "    return(encoded)\n",
        "  }\n",
        "  strng <- readline(\"Enter string: \")\n",
        "  encoderString <- encoder(strng)\n",
        "  cat(\"Encoded Text: \",paste(encoderString,collapse = \"\"))\n",
        "}"
      ],
      "metadata": {
        "colab": {
          "base_uri": "https://localhost:8080/"
        },
        "id": "KW21nm9nZJ9S",
        "outputId": "e53cada3-2797-42ac-87e5-215f5792583d"
      },
      "execution_count": 46,
      "outputs": [
        {
          "output_type": "stream",
          "name": "stdout",
          "text": [
            "Enter string: abbbccqkkkaa\n",
            "Encoded Text:  a1b3c2q1k3a2"
          ]
        }
      ]
    },
    {
      "cell_type": "markdown",
      "source": [
        "# Data Reversal\n",
        "Write a program to reverse the order of elements in a given list. Implement this without\n",
        "using any built-in functions or loops."
      ],
      "metadata": {
        "id": "2MgaeNnYQo60"
      }
    },
    {
      "cell_type": "code",
      "source": [
        "{\n",
        "  #Each elements separatered including the space\n",
        "  #then reversed based on last element to first, repeatedly\n",
        "  reverse <- function(elements)\n",
        "  {\n",
        "    elements <- strsplit(elements,\" \")[[1]]\n",
        "    len <- length(elements)\n",
        "    newElements <- character()\n",
        "    for (i in 1:len)\n",
        "    {\n",
        "      newElements[[i]] <- elements[[len - i + 1]]\n",
        "    }\n",
        "    return (newElements)\n",
        "  }\n",
        "  Elements <- readline(\"Enter Elements: \")\n",
        "  reverseElements <- reverse(Elements)\n",
        "  cat(\"Reverse Elements: \",paste(reverseElements))\n",
        "}"
      ],
      "metadata": {
        "colab": {
          "base_uri": "https://localhost:8080/"
        },
        "id": "cpZoMb_x6g2O",
        "outputId": "94b2233a-f2d6-4fc9-f1d2-e9a26ca3bd3a"
      },
      "execution_count": 89,
      "outputs": [
        {
          "output_type": "stream",
          "name": "stdout",
          "text": [
            "Enter Elements: Hi Hello !\n",
            "Reverse Elements:  ! Hello Hi"
          ]
        }
      ]
    },
    {
      "cell_type": "code",
      "source": [],
      "metadata": {
        "id": "MzFhrymfdYAs"
      },
      "execution_count": 90,
      "outputs": []
    }
  ]
}